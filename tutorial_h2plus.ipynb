{
 "cells": [
  {
   "cell_type": "markdown",
   "id": "f584b04c-47b3-430a-8063-02f7db5304c3",
   "metadata": {},
   "source": [
    "# Installing\n",
    "\n",
    "Make an environment\n",
    "https://psicode.org/psi4manual/master/build_obtaining.html#conda-binary-package\n",
    "\n",
    "\n",
    "# Calculate properties of H2+ with Psi4\n",
    "\n",
    "\n",
    "\n",
    "H2+ ref\n",
    "https://en.wikipedia.org/wiki/Dihydrogen_cation\n",
    "\n",
    "I'm using tutorials from Psi4numpy\n",
    "\n",
    "https://github.com/psi4/psi4numpy/tree/master/Tutorials\n",
    "\n",
    "## Notes from the \"Molecule Objects in Psi4\" tutorial\n",
    "\n",
    "Charge is zero by default\n",
    "How to specify the charge: {charge} {multiplicity}\n",
    "\n",
    "H2+ has one electron so it's a singlet (multiplicity is one)\n",
    "H2 has two electrons so there is a triplet and singlet.\n",
    "\n",
    "https://psicode.org/psi4manual/master/psithonmol.html#molecule-keywords\n",
    "\n",
    "H2 bond length 0.7414 angstroms from https://cccbdb.nist.gov/exp2x.asp?casno=1333740"
   ]
  },
  {
   "cell_type": "code",
   "execution_count": 1,
   "id": "a9922a40-7cff-4c08-9e67-b6b688549538",
   "metadata": {
    "scrolled": true
   },
   "outputs": [
    {
     "name": "stdout",
     "output_type": "stream",
     "text": [
      "h2 should have a charge 0. It currently has a charge  0\n",
      "h2+ should have a charge 1. It currently has a charge  1\n"
     ]
    }
   ],
   "source": [
    "\n",
    "import psi4\n",
    "import numpy as np\n",
    "\n",
    "#psi4_io.set_default_path('/private/scratch/laing')\n",
    "\n",
    "#Charge defaults to neutral 0\n",
    "# Which multiplicity for H2, 3 or 1?\n",
    "h2 = psi4.geometry(\"\"\"\n",
    "0 1\n",
    "H\n",
    "H 1 0.7414\n",
    "units angstrom\n",
    "\"\"\")\n",
    "print(\"h2 should have a charge 0. It currently has a charge \",h2.molecular_charge())\n",
    "# Set charge to 1 for h2+ \n",
    "# Spin is 1/2 so multiplicity is \n",
    "# 2S+1=2 (doublet)\n",
    "h2plus = psi4.geometry(\"\"\"\n",
    "1 2\n",
    "H\n",
    "H 1 2.0\n",
    "units bohr\n",
    "\"\"\")\n",
    "print(\"h2+ should have a charge 1. It currently has a charge \",h2plus.molecular_charge())"
   ]
  },
  {
   "cell_type": "markdown",
   "id": "8855d9ec-3467-4497-b244-6e1c2555ec7b",
   "metadata": {},
   "source": [
    "The only method I could find that computed excited states energies was CI (Configuration Interaction)\n",
    "https://github.com/psi4/psi4numpy/blob/e1521f25d159f5e105570bfec136dc870d76d7b5/Tutorials/09_Configuration_Interaction/9a_cis.ipynb\n",
    "\n",
    "Have to change from RHF to UHF because RHF is for singlets only\n"
   ]
  },
  {
   "cell_type": "code",
   "execution_count": 2,
   "id": "a825a630-403e-446a-8183-119c78f3940c",
   "metadata": {},
   "outputs": [
    {
     "name": "stdout",
     "output_type": "stream",
     "text": [
      "Created scratch directory: /Users/rob/psi4_scratch\n",
      "Error occurred during calculation: \n",
      "Fatal Error: ROOTS_PER_IRREP is wrong size. Should be number of irreps.\n",
      "Error occurred in file: /Users/runner/miniforge3/conda-bld/psi4_1729125684393/work/psi4/src/psi4/cc/cceom/get_eom_params.cc on line: 95\n",
      "The most recent 5 function calls were:\n",
      "\n",
      "\n"
     ]
    }
   ],
   "source": [
    "import psi4\n",
    "import os\n",
    "\n",
    "# Set scratch directory in your home folder\n",
    "home_dir = os.path.expanduser('~')\n",
    "scratch_dir = os.path.join(home_dir, 'psi4_scratch')\n",
    "\n",
    "# Create scratch directory if it doesn't exist\n",
    "if not os.path.exists(scratch_dir):\n",
    "    try:\n",
    "        os.makedirs(scratch_dir, exist_ok=True)\n",
    "        print(f\"Created scratch directory: {scratch_dir}\")\n",
    "    except Exception as e:\n",
    "        print(f\"Error creating scratch directory: {e}\")\n",
    "        raise\n",
    "\n",
    "# Reset everything\n",
    "psi4.core.clean()\n",
    "psi4.core.clean_options()\n",
    "psi4.core.clean_timers()  # Reset timers\n",
    "\n",
    "# Initialize Psi4\n",
    "psi4.core.be_quiet()\n",
    "psi4.set_memory('2 GB')\n",
    "psi4.core.IOManager.shared_object().set_default_path(scratch_dir)\n",
    "psi4.set_output_file('h2_excited_states.out', False)\n",
    "\n",
    "# Define H2 molecule\n",
    "h2 = psi4.geometry(\"\"\"\n",
    "0 1\n",
    "H\n",
    "H 1 0.7414\n",
    "units angstrom\n",
    "\"\"\")\n",
    "\n",
    "# Set basis set and other options\n",
    "psi4.set_options({\n",
    "    'basis': '6-31g',\n",
    "    'reference': 'rhf',\n",
    "    'roots_per_irrep': 4,\n",
    "    'e_convergence': 1e-6,     \n",
    "    'maxiter': 100\n",
    "})\n",
    "\n",
    "try:\n",
    "    # Perform EOM-CCSD calculation\n",
    "    energy, wfn = psi4.energy('eom-ccsd', return_wfn=True)\n",
    "    \n",
    "    # Print ground state energy\n",
    "    print(f\"\\nGround State Energy: {energy} Hartree\")\n",
    "    \n",
    "    # Get excitation energies\n",
    "    exc_energies = wfn.variable(\"EOM-CCSD EXCITATION ENERGIES\")\n",
    "    \n",
    "    if exc_energies:\n",
    "        print(\"\\nExcited State Energies (eV):\")\n",
    "        for i, energy in enumerate(exc_energies):\n",
    "            print(f\"State {i+1}: {energy * 27.211386} eV\")\n",
    "    \n",
    "except Exception as e:\n",
    "    print(f\"Error occurred during calculation: {str(e)}\")\n",
    "\n",
    "finally:\n",
    "    # Clean up after calculation\n",
    "    psi4.core.clean()\n",
    "    psi4.core.clean_timers()"
   ]
  },
  {
   "cell_type": "markdown",
   "id": "060eb6bd-6926-4cfa-8612-6ac6df604ab8",
   "metadata": {},
   "source": [
    "## Moving on to \"Wavefunctions in Psi4\" Note that we need excited state wavefunctions\n",
    "\n",
    "https://github.com/psi4/psi4numpy/blob/master/Tutorials/01_Psi4NumPy-Basics/1d_wavefunction.ipynb\n",
    "\n",
    "In their notation, spin up orbitals are alpha, spin down are beta"
   ]
  }
 ],
 "metadata": {
  "kernelspec": {
   "display_name": "Python 3 (ipykernel)",
   "language": "python",
   "name": "python3"
  },
  "language_info": {
   "codemirror_mode": {
    "name": "ipython",
    "version": 3
   },
   "file_extension": ".py",
   "mimetype": "text/x-python",
   "name": "python",
   "nbconvert_exporter": "python",
   "pygments_lexer": "ipython3",
   "version": "3.10.16"
  }
 },
 "nbformat": 4,
 "nbformat_minor": 5
}
